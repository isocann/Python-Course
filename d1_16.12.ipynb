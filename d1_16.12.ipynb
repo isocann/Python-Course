{
 "cells": [
  {
   "cell_type": "code",
   "execution_count": 1,
   "id": "33a23925",
   "metadata": {},
   "outputs": [],
   "source": [
    "# https://github.com/abdullahkise/TPython_20211216_O"
   ]
  },
  {
   "cell_type": "markdown",
   "id": "7c7ce5ce",
   "metadata": {},
   "source": [
    "# Python Dili ile Veri Analizi\n",
    "![python logo](https://www.python.org/static/img/python-logo.png)\n",
    "\n",
    "## Python Ortamının Hazırlanması\n",
    "\n",
    "**Python** ortamını hazırlamak için:\n",
    "1. Öncelikle [python.org](https://www.python.org/) sitesinden Python enginei indirmeliyiz.\n",
    "2. Sonrasonda termianlde veya bir IDE ile çalışabiliriz.\n",
    "    * `Jupyter`, `Jupyter Lab`\n",
    "    * `Visual Studio Code`, `Spyder`, `PyCharm` vs.\n",
    "3. Dilerseniz **Anaconda** kurup daha derli toplu çalılabilirsiniz. `Anaconda Navigator` züüerinden ugulama ve kütüphaneleri yönetebiliriz\n",
    "\n",
    "---\n",
    "\n",
    "### Komut Satırında Çalışmak\n",
    "\n",
    "```shell\n",
    ">python --version\n",
    ">py --version\n",
    ">py3\n",
    ">py -3\n",
    "    >exit()\n",
    "    >help(print)\n",
    ">cls\n",
    "```\n",
    "\n",
    "---\n",
    "\n",
    "### Bazı Python Komutları\n",
    "\n",
    "```Python\n",
    "\n",
    "#tek satırlık yorumlar için # kullanılır.\n",
    "\"\"\"\n",
    "    çift veya tek tırnak ile metinsel ifadeler tanımayabiliriz\n",
    "    çift veya tek tırnatktan 3'er tane kullanırsak çok satırlı metinler tutabiliriz.\n",
    "    \n",
    "    Pythonda çok satılı yorum tutmak için özel bir yöntem yok. Bunun yerine çok satılı metinler tanımlanır.\n",
    "\"\"\"\n",
    "\n",
    "print('Merhaba','dünyalı',sep='@', end=\"!\\n\")\n",
    "```\n",
    "\n",
    "---\n",
    "### Bazı SQL Komutları\n",
    "```sql\n",
    "-- Veritabanına bağlanayacağımız zaman SQL dilini kullanacağız.\n",
    "SELECT * FROM TabloAdi\n",
    "```\n",
    "\n",
    "---\n",
    "### Bazı Kısa Yollar\n",
    "*Command Mode* aktifken:\n",
    "* Çalıştır: <kbd>CTRL+Enter</kbd>, <kbd>SHIFT+Enter</kbd>, <kbd>ALT+Enter</kbd>\n",
    "* Üstüne hücre <kbd>A</kbd>, altına <kbd>B</kbd>\n",
    "* Hücreyi silmek için <kbd>D,D</kbd>\n",
    "* İşlemi geri almak için <kbd>Z</kbd>\n",
    "* Tüm kısayollar için <kbd>H</kbd>\n",
    "    \n",
    "---\n",
    "### Tablo Görünümü\n",
    "|Ad|Soyad|\n",
    "|---|----|\n",
    "|Abdullah|Kise|\n",
    "|Ali|Uçan|\n",
    "|Ayşe|Çalışkan|\n",
    "\n",
    "### Matematiksel Formuller\n",
    "* $x^2$\n",
    "* $\\int$\n",
    "* $\\infty$\n",
    "\n",
    "Markdown dilini hiç kullanmayacağız~ sık sık kullanacağız."
   ]
  },
  {
   "cell_type": "markdown",
   "id": "6fb73e5b",
   "metadata": {},
   "source": [
    "## Package / Module Kavramı Temelleri \n",
    "\n",
    "* Python kütüpleri Package adı verillen klasörler içinde py uzantılı scriptlerden oluşur\n",
    "*"
   ]
  },
  {
   "cell_type": "code",
   "execution_count": null,
   "id": "4cb1ac7f",
   "metadata": {},
   "outputs": [],
   "source": []
  }
 ],
 "metadata": {
  "kernelspec": {
   "display_name": "Python 3 (ipykernel)",
   "language": "python",
   "name": "python3"
  },
  "language_info": {
   "codemirror_mode": {
    "name": "ipython",
    "version": 3
   },
   "file_extension": ".py",
   "mimetype": "text/x-python",
   "name": "python",
   "nbconvert_exporter": "python",
   "pygments_lexer": "ipython3",
   "version": "3.8.8"
  }
 },
 "nbformat": 4,
 "nbformat_minor": 5
}

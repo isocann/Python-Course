{
 "cells": [
  {
   "cell_type": "markdown",
   "id": "5b2162fc",
   "metadata": {},
   "source": [
    "Run time hatalarını yönetmek için **try-except-else-finally** blogu kullanılır\n",
    "\n",
    "try:  \n",
    "    pass #hata olması muhtemel kodlar  \n",
    "except hataTipiError as takmaAd:  \n",
    "     pass #hataTipiError türünden bir hata ile karşılaşıldığında buradaki kodlar çalışır  \n",
    "except hata1,hata2:  \n",
    "    pass #iki hata için de aynı işlemleri yapabiliriz  \n",
    "Except Exception:  \n",
    "    pass #geriye kalan tüm hata türleri için yapılacaktır. Exception genel hata türüdür  \n",
    "else:  \n",
    "    pass #herhangi bir hata ile karşılaşmazsa çalışır.  \n",
    "finally:  \n",
    "    pass #hata olsa da olmasa da çalışır. Kaynakları serbest bırakmak, bağlantılarını kapatmak vs.  \n",
    "    \n",
    "**Not:** raise hataTipiError() ile programda bilinçli şekilde hata vermesini sağlayabiliriz. Belli şartlar gerçekleştiğinde programın devam etmesini istemeyebiliriz."
   ]
  },
  {
   "cell_type": "code",
   "execution_count": 3,
   "id": "0ad77080",
   "metadata": {},
   "outputs": [
    {
     "name": "stdout",
     "output_type": "stream",
     "text": [
      "İşleminiz başarıyla gerçekleşti\n",
      "Hesaplama sonucu:  6.0\n"
     ]
    }
   ],
   "source": [
    "x=12\n",
    "y=2\n",
    "sonuc=None\n",
    "\n",
    "try:\n",
    "    sonuc = x/y\n",
    "except ZeroDivisionError as ex:\n",
    "    print('---> Sıfıra bölünme hatası aldınız')\n",
    "    print('--- Sistem Mesajı: ',ex)\n",
    "    sonuc = 'Sonsuz'\n",
    "except Exception: #sadece geriye kalan başka muhtemel hatalar varsa kullan çünkü performansı düşürür\n",
    "    print('Ön görülemeyen bir hata alındı')\n",
    "    pass #mail atacağız\n",
    "    print('Geliştiriciye mail atıldı')\n",
    "    sonuc = 'Belirsiz'\n",
    "else:\n",
    "    print('İşleminiz başarıyla gerçekleşti')\n",
    "finally:\n",
    "    print('Hesaplama sonucu: ',sonuc)"
   ]
  },
  {
   "cell_type": "code",
   "execution_count": 4,
   "id": "c8e1131b",
   "metadata": {},
   "outputs": [
    {
     "data": {
      "text/plain": [
       "['ArithmeticError',\n",
       " 'AssertionError',\n",
       " 'AttributeError',\n",
       " 'BlockingIOError',\n",
       " 'BrokenPipeError',\n",
       " 'BufferError',\n",
       " 'ChildProcessError',\n",
       " 'ConnectionAbortedError',\n",
       " 'ConnectionError',\n",
       " 'ConnectionRefusedError',\n",
       " 'ConnectionResetError',\n",
       " 'EOFError',\n",
       " 'EnvironmentError',\n",
       " 'FileExistsError',\n",
       " 'FileNotFoundError',\n",
       " 'FloatingPointError',\n",
       " 'IOError',\n",
       " 'ImportError',\n",
       " 'IndentationError',\n",
       " 'IndexError',\n",
       " 'InterruptedError',\n",
       " 'IsADirectoryError',\n",
       " 'KeyError',\n",
       " 'LookupError',\n",
       " 'MemoryError',\n",
       " 'ModuleNotFoundError',\n",
       " 'NameError',\n",
       " 'NotADirectoryError',\n",
       " 'NotImplementedError',\n",
       " 'OSError',\n",
       " 'OverflowError',\n",
       " 'PermissionError',\n",
       " 'ProcessLookupError',\n",
       " 'RecursionError',\n",
       " 'ReferenceError',\n",
       " 'RuntimeError',\n",
       " 'SyntaxError',\n",
       " 'SystemError',\n",
       " 'TabError',\n",
       " 'TimeoutError',\n",
       " 'TypeError',\n",
       " 'UnboundLocalError',\n",
       " 'UnicodeDecodeError',\n",
       " 'UnicodeEncodeError',\n",
       " 'UnicodeError',\n",
       " 'UnicodeTranslateError',\n",
       " 'ValueError',\n",
       " 'ZeroDivisionError']"
      ]
     },
     "execution_count": 4,
     "metadata": {},
     "output_type": "execute_result"
    }
   ],
   "source": [
    "[e for e in dir(__builtins__) if 'Error' in e]"
   ]
  },
  {
   "cell_type": "code",
   "execution_count": 7,
   "id": "dfda9d48",
   "metadata": {},
   "outputs": [
    {
     "name": "stdout",
     "output_type": "stream",
     "text": [
      "Sıcaklığı giriniz: -12\n",
      "Bir hata ile karşılaşıldı\n",
      "Hata mesajı: Negatif sıcaklık\n"
     ]
    }
   ],
   "source": [
    "#C verilsin, F hesaplayalım. F=1.8*C + 32\n",
    "#Sıcaklığı F'e çevirelim. Sadece pozitif sıcaklıklar çevrilsin\n",
    "\n",
    "c_str = input('Sıcaklığı giriniz: ')\n",
    "\n",
    "try:\n",
    "    c_float = float(c_str)\n",
    "    if c_float < 0:\n",
    "        raise PermissionError('Negatif sıcaklık') #Sistem hatası ürettik\n",
    "    F = 1.8*c_float + 32\n",
    "    \n",
    "    print(f'{c_float} C = {F} F')\n",
    "except Exception as ex:\n",
    "    print('Bir hata ile karşılaşıldı')\n",
    "    print('Hata mesajı:',ex)"
   ]
  },
  {
   "cell_type": "code",
   "execution_count": null,
   "id": "03af5caa",
   "metadata": {},
   "outputs": [],
   "source": []
  }
 ],
 "metadata": {
  "kernelspec": {
   "display_name": "Python 3 (ipykernel)",
   "language": "python",
   "name": "python3"
  },
  "language_info": {
   "codemirror_mode": {
    "name": "ipython",
    "version": 3
   },
   "file_extension": ".py",
   "mimetype": "text/x-python",
   "name": "python",
   "nbconvert_exporter": "python",
   "pygments_lexer": "ipython3",
   "version": "3.9.7"
  }
 },
 "nbformat": 4,
 "nbformat_minor": 5
}

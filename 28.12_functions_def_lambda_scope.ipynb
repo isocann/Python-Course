{
 "cells": [
  {
   "cell_type": "code",
   "execution_count": 2,
   "id": "e60d90b8",
   "metadata": {},
   "outputs": [],
   "source": [
    "def obeziteSeviyem(kilo, boy):\n",
    "    '''\n",
    "        Bu fonksiyon beden kitle indexi üzerinden obeezite seviyesini hesaplar\n",
    "        \n",
    "        Parametreler:\n",
    "        -------------------\n",
    "        kilo: kg cinsinden kilo\n",
    "        boy:  m cinsiden boy\n",
    "    '''\n",
    "    \n",
    "    bki = kilo / boy**2\n",
    "    if bki >= 40:\n",
    "        return \"3.derece obez\"\n",
    "    elif 35<=bki<40:\n",
    "        return \"2.derece obez\"\n",
    "    elif 30<=bki<35:\n",
    "        return \"1.derece obez\"\n",
    "    elif 25<=bki<30:\n",
    "        return \"Hafif şişman\"\n",
    "    elif 18.5<=bki<25:\n",
    "        return \"Normal\"\n",
    "    elif 17<=bki<18.5:\n",
    "        return \"Hafif zayıf\"\n",
    "    elif 16<=bki<17:\n",
    "        return \"Orta zayıf\"\n",
    "    else:\n",
    "        return \"Çok zayıf\"\n",
    "    "
   ]
  },
  {
   "cell_type": "code",
   "execution_count": 7,
   "id": "133794e6",
   "metadata": {},
   "outputs": [
    {
     "data": {
      "text/plain": [
       "'Hafif zayıf'"
      ]
     },
     "execution_count": 7,
     "metadata": {},
     "output_type": "execute_result"
    }
   ],
   "source": [
    "obeziteSeviyem(80,2.10)"
   ]
  },
  {
   "cell_type": "code",
   "execution_count": 8,
   "id": "1469c683",
   "metadata": {},
   "outputs": [],
   "source": [
    "def fnkVarsayilanDegerliParametre(p1,p2='Varsayilan Değer'):\n",
    "    print('p1:', p1)\n",
    "    print('p2:', p2)"
   ]
  },
  {
   "cell_type": "code",
   "execution_count": 9,
   "id": "e0ce6891",
   "metadata": {},
   "outputs": [
    {
     "name": "stdout",
     "output_type": "stream",
     "text": [
      "p1: Ali\n",
      "p2: Uçan\n"
     ]
    }
   ],
   "source": [
    "fnkVarsayilanDegerliParametre('Ali','Uçan')"
   ]
  },
  {
   "cell_type": "code",
   "execution_count": 10,
   "id": "41c7e3db",
   "metadata": {},
   "outputs": [
    {
     "name": "stdout",
     "output_type": "stream",
     "text": [
      "p1: Ali\n",
      "p2: Uçan\n"
     ]
    }
   ],
   "source": [
    "fnkVarsayilanDegerliParametre(p1='Ali',p2='Uçan')"
   ]
  },
  {
   "cell_type": "code",
   "execution_count": 11,
   "id": "09a23137",
   "metadata": {},
   "outputs": [
    {
     "name": "stdout",
     "output_type": "stream",
     "text": [
      "p1: Ali\n",
      "p2: Varsayilan Değer\n"
     ]
    }
   ],
   "source": [
    "fnkVarsayilanDegerliParametre('Ali')"
   ]
  },
  {
   "cell_type": "code",
   "execution_count": 12,
   "id": "ebedea82",
   "metadata": {},
   "outputs": [],
   "source": [
    "def sinirsizDegerliParametreler(*sınırsız, **sınırsızKeyValue):\n",
    "    print('sinirsiz:', sınırsız)\n",
    "    print('sinirsizKeyValue', sınırsızKeyValue)"
   ]
  },
  {
   "cell_type": "code",
   "execution_count": 13,
   "id": "8936f966",
   "metadata": {},
   "outputs": [
    {
     "name": "stdout",
     "output_type": "stream",
     "text": [
      "sinirsiz: (1, 2, 3, 'ali', 'veli')\n",
      "sinirsizKeyValue {}\n"
     ]
    }
   ],
   "source": [
    "sinirsizDegerliParametreler(1,2,3,'ali','veli') #sınırsız parametresine atandı"
   ]
  },
  {
   "cell_type": "code",
   "execution_count": 14,
   "id": "e282c86b",
   "metadata": {},
   "outputs": [
    {
     "name": "stdout",
     "output_type": "stream",
     "text": [
      "sinirsiz: (1, 2, 3)\n",
      "sinirsizKeyValue {'ad': 'ali', 'soyad': 'uçan'}\n"
     ]
    }
   ],
   "source": [
    "sinirsizDegerliParametreler(1,2,3,ad='ali',soyad='uçan')"
   ]
  },
  {
   "cell_type": "code",
   "execution_count": 15,
   "id": "d75b99d7",
   "metadata": {},
   "outputs": [],
   "source": [
    "def topla(*sayilar):\n",
    "    return sum(sayilar)"
   ]
  },
  {
   "cell_type": "code",
   "execution_count": 16,
   "id": "8b61c7a4",
   "metadata": {},
   "outputs": [
    {
     "data": {
      "text/plain": [
       "446"
      ]
     },
     "execution_count": 16,
     "metadata": {},
     "output_type": "execute_result"
    }
   ],
   "source": [
    "topla(324,54,45,23)"
   ]
  },
  {
   "cell_type": "code",
   "execution_count": 17,
   "id": "b4ebc6fc",
   "metadata": {},
   "outputs": [],
   "source": [
    "def Uye(ad,yas):\n",
    "    print('Kayıt işlemi başlatılıyor...')\n",
    "    \n",
    "    def CocukKayit(adet):\n",
    "        print(f'---> {adet} adet çocuk için kayıt alındı')\n",
    "    def YetişkinKayit(adet):\n",
    "        print(f'---> {adet} adet yetişkin için kayıt alındı')\n",
    "        \n",
    "    if yas<18:\n",
    "        return CocukKayit\n",
    "    else:\n",
    "        return YetişkinKayit"
   ]
  },
  {
   "cell_type": "code",
   "execution_count": 18,
   "id": "b2ada5c6",
   "metadata": {},
   "outputs": [
    {
     "name": "stdout",
     "output_type": "stream",
     "text": [
      "Kayıt işlemi başlatılıyor...\n"
     ]
    }
   ],
   "source": [
    "fnk = Uye('Ali',10)"
   ]
  },
  {
   "cell_type": "code",
   "execution_count": 19,
   "id": "800cb7a6",
   "metadata": {},
   "outputs": [
    {
     "name": "stdout",
     "output_type": "stream",
     "text": [
      "---> 3 adet çocuk için kayıt alındı\n"
     ]
    }
   ],
   "source": [
    "fnk(3)"
   ]
  },
  {
   "cell_type": "code",
   "execution_count": 20,
   "id": "c8b525df",
   "metadata": {},
   "outputs": [],
   "source": [
    "c2f = lambda c: 1.8*c + 32"
   ]
  },
  {
   "cell_type": "code",
   "execution_count": 21,
   "id": "fee116ef",
   "metadata": {},
   "outputs": [
    {
     "data": {
      "text/plain": [
       "73.4"
      ]
     },
     "execution_count": 21,
     "metadata": {},
     "output_type": "execute_result"
    }
   ],
   "source": [
    "c2f(23)"
   ]
  },
  {
   "cell_type": "code",
   "execution_count": 22,
   "id": "64f4c1c9",
   "metadata": {},
   "outputs": [
    {
     "name": "stdout",
     "output_type": "stream",
     "text": [
      "dış\n"
     ]
    }
   ],
   "source": [
    "x = 'dış'\n",
    "def fnk():\n",
    "    print(x) #dışarıki x'i aldı\n",
    "    #eğer x içerde tanımlanırsa, tanımlama öncesinde kullanamayız\n",
    "    #çünkü artık içerideki x'i alır\n",
    "    x = 'iç'\n",
    "\n",
    "fnk()"
   ]
  },
  {
   "cell_type": "code",
   "execution_count": 26,
   "id": "55a13f02",
   "metadata": {},
   "outputs": [
    {
     "name": "stdout",
     "output_type": "stream",
     "text": [
      "iç\n",
      "local x: iç\n",
      "global x: dış\n"
     ]
    }
   ],
   "source": [
    "x = 'dış'\n",
    "def fnk():\n",
    "    x = 'iç'\n",
    "    print(x)\n",
    "    print('local x:', x) #locals()['x']\n",
    "    print('global x:', globals()['x'])\n",
    "    \n",
    "    global icerideTanımliGlobalDegisken\n",
    "    icerideTanımliGlobalDegisken='fnk içinde tanımlandı'\n",
    "\n",
    "fnk()"
   ]
  },
  {
   "cell_type": "code",
   "execution_count": 27,
   "id": "d802d00b",
   "metadata": {},
   "outputs": [
    {
     "name": "stdout",
     "output_type": "stream",
     "text": [
      "fnk içinde tanımlandı\n"
     ]
    }
   ],
   "source": [
    "def fnk_farklı():\n",
    "    print(icerideTanımliGlobalDegisken)\n",
    "\n",
    "fnk_farklı()"
   ]
  },
  {
   "cell_type": "code",
   "execution_count": null,
   "id": "82943156",
   "metadata": {},
   "outputs": [],
   "source": []
  }
 ],
 "metadata": {
  "kernelspec": {
   "display_name": "Python 3 (ipykernel)",
   "language": "python",
   "name": "python3"
  },
  "language_info": {
   "codemirror_mode": {
    "name": "ipython",
    "version": 3
   },
   "file_extension": ".py",
   "mimetype": "text/x-python",
   "name": "python",
   "nbconvert_exporter": "python",
   "pygments_lexer": "ipython3",
   "version": "3.9.7"
  }
 },
 "nbformat": 4,
 "nbformat_minor": 5
}

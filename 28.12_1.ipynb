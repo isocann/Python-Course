{
 "cells": [
  {
   "cell_type": "code",
   "execution_count": 1,
   "id": "b2c79006",
   "metadata": {},
   "outputs": [],
   "source": [
    "lst_cft = []"
   ]
  },
  {
   "cell_type": "code",
   "execution_count": 5,
   "id": "639d15a5",
   "metadata": {
    "collapsed": true
   },
   "outputs": [
    {
     "data": {
      "text/plain": [
       "[0,\n",
       " 2,\n",
       " 4,\n",
       " 6,\n",
       " 8,\n",
       " 10,\n",
       " 12,\n",
       " 14,\n",
       " 16,\n",
       " 18,\n",
       " 0,\n",
       " 2,\n",
       " 4,\n",
       " 6,\n",
       " 8,\n",
       " 10,\n",
       " 12,\n",
       " 14,\n",
       " 16,\n",
       " 18,\n",
       " 30,\n",
       " 32,\n",
       " 34,\n",
       " 36,\n",
       " 38,\n",
       " 40,\n",
       " 42,\n",
       " 44,\n",
       " 46,\n",
       " 48,\n",
       " 50,\n",
       " 52,\n",
       " 54,\n",
       " 56,\n",
       " 58,\n",
       " 60,\n",
       " 62,\n",
       " 64,\n",
       " 66,\n",
       " 68,\n",
       " 70,\n",
       " 72,\n",
       " 74,\n",
       " 76,\n",
       " 78,\n",
       " 80,\n",
       " 82,\n",
       " 84,\n",
       " 86,\n",
       " 88,\n",
       " 90,\n",
       " 92,\n",
       " 94,\n",
       " 96,\n",
       " 98]"
      ]
     },
     "execution_count": 5,
     "metadata": {},
     "output_type": "execute_result"
    }
   ],
   "source": [
    "for s in range(30,100):\n",
    "    if s%2 == 0:\n",
    "        lst_cft.append(s)\n",
    "        \n",
    "lst_cft"
   ]
  },
  {
   "cell_type": "code",
   "execution_count": 8,
   "id": "ebedb677",
   "metadata": {},
   "outputs": [],
   "source": [
    "lst_cft = [s for s in range(30,100) if s%2==0]"
   ]
  },
  {
   "cell_type": "code",
   "execution_count": 9,
   "id": "194533e6",
   "metadata": {
    "collapsed": true
   },
   "outputs": [
    {
     "data": {
      "text/plain": [
       "[30,\n",
       " 32,\n",
       " 34,\n",
       " 36,\n",
       " 38,\n",
       " 40,\n",
       " 42,\n",
       " 44,\n",
       " 46,\n",
       " 48,\n",
       " 50,\n",
       " 52,\n",
       " 54,\n",
       " 56,\n",
       " 58,\n",
       " 60,\n",
       " 62,\n",
       " 64,\n",
       " 66,\n",
       " 68,\n",
       " 70,\n",
       " 72,\n",
       " 74,\n",
       " 76,\n",
       " 78,\n",
       " 80,\n",
       " 82,\n",
       " 84,\n",
       " 86,\n",
       " 88,\n",
       " 90,\n",
       " 92,\n",
       " 94,\n",
       " 96,\n",
       " 98]"
      ]
     },
     "execution_count": 9,
     "metadata": {},
     "output_type": "execute_result"
    }
   ],
   "source": [
    "lst_cft"
   ]
  },
  {
   "cell_type": "code",
   "execution_count": 11,
   "id": "f3a8c486",
   "metadata": {
    "collapsed": true
   },
   "outputs": [
    {
     "name": "stdout",
     "output_type": "stream",
     "text": [
      "['5x1=5', '5x2=10', '5x3=15', '5x4=20', '5x5=25', '5x6=30', '5x7=35', '5x8=40', '5x9=45', '5x10=50']\n"
     ]
    }
   ],
   "source": [
    "kaclar = 5\n",
    "\n",
    "lst_carpim=[]\n",
    "\n",
    "for x in range(1,11):\n",
    "    for y in range(1,11):\n",
    "        if x == kaclar:\n",
    "            lst_carpim.append(f\"{x}x{y} = {x*y}\")\n",
    "\n",
    "lst_carpim = [f\"{x}x{y}={x*y}\"for x in range(1,11) for y in range(1,11) if x==kaclar]\n",
    "            \n",
    "print(lst_carpim)\n"
   ]
  },
  {
   "cell_type": "code",
   "execution_count": 25,
   "id": "2a268690",
   "metadata": {},
   "outputs": [],
   "source": [
    "#sayı olmayanları temizleyelim\n",
    "\n",
    "cumle = 'm3e4rhab@a dü35ny9-al6ı'\n",
    "temiz_cumle=''\n",
    "num_sayac = 0 "
   ]
  },
  {
   "cell_type": "code",
   "execution_count": 26,
   "id": "f4af44f0",
   "metadata": {
    "collapsed": true
   },
   "outputs": [
    {
     "name": "stdout",
     "output_type": "stream",
     "text": [
      "merhab\n",
      "2 adet sayı bulundu\n"
     ]
    }
   ],
   "source": [
    "for karakter in cumle:\n",
    "    if karakter == '@':\n",
    "        break #içinde bulunduğu ilk döngüden çıkar\n",
    "    if karakter.isnumeric():\n",
    "        num_sayac += 1\n",
    "        continue #bir sonraki iterasyona geçer\n",
    "    if karakter.isalpha() or karakter.isspace():\n",
    "        temiz_cumle += karakter\n",
    "        \n",
    "print(temiz_cumle)\n",
    "print(f'{num_sayac} adet sayı bulundu')"
   ]
  },
  {
   "cell_type": "code",
   "execution_count": 28,
   "id": "cd1522c9",
   "metadata": {
    "collapsed": true
   },
   "outputs": [
    {
     "name": "stdout",
     "output_type": "stream",
     "text": [
      "0\n",
      "1\n",
      "2\n",
      "3\n",
      "4\n",
      "5\n",
      "6\n",
      "7\n",
      "8\n",
      "9\n",
      "şarta uymayan durumla karşılaşıldı: Sayac 10\n"
     ]
    }
   ],
   "source": [
    "sayac = 0\n",
    "\n",
    "while sayac < 10:\n",
    "    print(sayac)\n",
    "    sayac+=1\n",
    "else:\n",
    "    print(f'şarta uymayan durumla karşılaşıldı: Sayac {sayac}')"
   ]
  },
  {
   "cell_type": "code",
   "execution_count": 31,
   "id": "2155e353",
   "metadata": {
    "collapsed": true
   },
   "outputs": [
    {
     "name": "stdout",
     "output_type": "stream",
     "text": [
      "==============================\n",
      "Hesap bilgilerinizi giriniz\n",
      "\tKullanıcı adı giriniz:dffg\n",
      "\tŞifre girinizfdg\n",
      "==============================\n",
      "Hesap bilgilerinizi giriniz\n",
      "\tKullanıcı adı giriniz:dfgdf\n",
      "\tŞifre girinizdfgd\n",
      "==============================\n",
      "Hesap bilgilerinizi giriniz\n",
      "\tKullanıcı adı giriniz:dfgd\n",
      "\tŞifre girinizdfgdf\n",
      "Deneme hakkınız kalmadı.\n"
     ]
    }
   ],
   "source": [
    "kadi=ksifre=''\n",
    "denemeHakki=3\n",
    "\n",
    "while not(kadi=='admin' and ksifre=='123'): #or kadi!='admin' or ksifre!='123'\n",
    "    if denemeHakki <= 0:\n",
    "        print('Deneme hakkınız kalmadı.')\n",
    "        break #Döngüden çıkılsın\n",
    "    \n",
    "    print('='*30)\n",
    "    print(\"Hesap bilgilerinizi giriniz\")\n",
    "    kadi = input('\\tKullanıcı adı giriniz:')\n",
    "    ksifre = input('\\tŞifre giriniz')\n",
    "    \n",
    "    denemeHakki -=1\n",
    "else:\n",
    "    print(f'Hoş geliniz {kadi}')\n",
    "    "
   ]
  },
  {
   "cell_type": "code",
   "execution_count": 32,
   "id": "e720de02",
   "metadata": {},
   "outputs": [
    {
     "data": {
      "text/plain": [
       "0.9608334483208654"
      ]
     },
     "execution_count": 32,
     "metadata": {},
     "output_type": "execute_result"
    }
   ],
   "source": [
    "import random\n",
    "\n",
    "random.randint(1,10)\n",
    "random.random()"
   ]
  },
  {
   "cell_type": "code",
   "execution_count": 36,
   "id": "17943e95",
   "metadata": {},
   "outputs": [
    {
     "name": "stdout",
     "output_type": "stream",
     "text": [
      "1-10 arası bir sayı giriniz: 9\n",
      "daha küçük bir sayı giriniz\n",
      "1-10 arası bir sayı giriniz: 7\n",
      "daha büyük bir sayı giriniz\n",
      "1-10 arası bir sayı giriniz: 8\n",
      "Doğru!\n"
     ]
    }
   ],
   "source": [
    "n = random.randint(1,10)\n",
    "numb = 999 \n",
    "while n != numb:\n",
    "    numb = int(input('1-10 arası bir sayı giriniz: '))\n",
    "    if n<numb:\n",
    "        print('daha küçük bir sayı giriniz')\n",
    "    elif n>numb:\n",
    "        print('daha büyük bir sayı giriniz')\n",
    "    else:\n",
    "        print('Doğru!')\n",
    "        break"
   ]
  }
 ],
 "metadata": {
  "kernelspec": {
   "display_name": "Python 3 (ipykernel)",
   "language": "python",
   "name": "python3"
  },
  "language_info": {
   "codemirror_mode": {
    "name": "ipython",
    "version": 3
   },
   "file_extension": ".py",
   "mimetype": "text/x-python",
   "name": "python",
   "nbconvert_exporter": "python",
   "pygments_lexer": "ipython3",
   "version": "3.9.7"
  }
 },
 "nbformat": 4,
 "nbformat_minor": 5
}
